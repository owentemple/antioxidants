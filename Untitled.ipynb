{
 "cells": [
  {
   "cell_type": "code",
   "execution_count": 4,
   "metadata": {
    "collapsed": true
   },
   "outputs": [],
   "source": [
    "import pandas as pd"
   ]
  },
  {
   "cell_type": "code",
   "execution_count": 5,
   "metadata": {
    "collapsed": true
   },
   "outputs": [],
   "source": [
    "df = pd.read_csv(\"anti.csv\")"
   ]
  },
  {
   "cell_type": "code",
   "execution_count": 6,
   "metadata": {},
   "outputs": [
    {
     "data": {
      "text/html": [
       "<div>\n",
       "<style>\n",
       "    .dataframe thead tr:only-child th {\n",
       "        text-align: right;\n",
       "    }\n",
       "\n",
       "    .dataframe thead th {\n",
       "        text-align: left;\n",
       "    }\n",
       "\n",
       "    .dataframe tbody tr th {\n",
       "        vertical-align: top;\n",
       "    }\n",
       "</style>\n",
       "<table border=\"1\" class=\"dataframe\">\n",
       "  <thead>\n",
       "    <tr style=\"text-align: right;\">\n",
       "      <th></th>\n",
       "      <th>id</th>\n",
       "      <th>Category_name</th>\n",
       "      <th>Category_number</th>\n",
       "      <th>Product</th>\n",
       "      <th>Manufacturer / product label / country of origin</th>\n",
       "      <th>Procured_in</th>\n",
       "      <th>Antioxidant_content_in_mmol/100g</th>\n",
       "      <th>Comment</th>\n",
       "    </tr>\n",
       "  </thead>\n",
       "  <tbody>\n",
       "    <tr>\n",
       "      <th>0</th>\n",
       "      <td>1</td>\n",
       "      <td>NaN</td>\n",
       "      <td>1</td>\n",
       "      <td>Amla berries, dried</td>\n",
       "      <td>India</td>\n",
       "      <td>India</td>\n",
       "      <td>261.53</td>\n",
       "      <td>3</td>\n",
       "    </tr>\n",
       "    <tr>\n",
       "      <th>1</th>\n",
       "      <td>2</td>\n",
       "      <td>NaN</td>\n",
       "      <td>1</td>\n",
       "      <td>Amla, Indian Gooseberries, whole, canned</td>\n",
       "      <td>Roopaks, Ajmal Khan, N. Dehli</td>\n",
       "      <td>India</td>\n",
       "      <td>13.27</td>\n",
       "      <td>3</td>\n",
       "    </tr>\n",
       "    <tr>\n",
       "      <th>2</th>\n",
       "      <td>3</td>\n",
       "      <td>NaN</td>\n",
       "      <td>1</td>\n",
       "      <td>Amla, syrup from canned Indian Gooseberries</td>\n",
       "      <td>Roopaks, Ajmal Khan, N. Dehli</td>\n",
       "      <td>India</td>\n",
       "      <td>29.70</td>\n",
       "      <td>3</td>\n",
       "    </tr>\n",
       "    <tr>\n",
       "      <th>3</th>\n",
       "      <td>4</td>\n",
       "      <td>NaN</td>\n",
       "      <td>1</td>\n",
       "      <td>Bilberries, wild</td>\n",
       "      <td>Norway</td>\n",
       "      <td>Norway</td>\n",
       "      <td>7.57</td>\n",
       "      <td>3</td>\n",
       "    </tr>\n",
       "    <tr>\n",
       "      <th>4</th>\n",
       "      <td>5</td>\n",
       "      <td>NaN</td>\n",
       "      <td>1</td>\n",
       "      <td>Bilberries, wild</td>\n",
       "      <td>Norway</td>\n",
       "      <td>Norway</td>\n",
       "      <td>8.55</td>\n",
       "      <td>4</td>\n",
       "    </tr>\n",
       "  </tbody>\n",
       "</table>\n",
       "</div>"
      ],
      "text/plain": [
       "   id  Category_name  Category_number  \\\n",
       "0   1            NaN                1   \n",
       "1   2            NaN                1   \n",
       "2   3            NaN                1   \n",
       "3   4            NaN                1   \n",
       "4   5            NaN                1   \n",
       "\n",
       "                                       Product  \\\n",
       "0                          Amla berries, dried   \n",
       "1     Amla, Indian Gooseberries, whole, canned   \n",
       "2  Amla, syrup from canned Indian Gooseberries   \n",
       "3                             Bilberries, wild   \n",
       "4                             Bilberries, wild   \n",
       "\n",
       "  Manufacturer / product label / country of origin Procured_in  \\\n",
       "0                                            India       India   \n",
       "1                    Roopaks, Ajmal Khan, N. Dehli       India   \n",
       "2                    Roopaks, Ajmal Khan, N. Dehli       India   \n",
       "3                                           Norway      Norway   \n",
       "4                                           Norway      Norway   \n",
       "\n",
       "   Antioxidant_content_in_mmol/100g Comment  \n",
       "0                            261.53       3  \n",
       "1                             13.27       3  \n",
       "2                             29.70       3  \n",
       "3                              7.57       3  \n",
       "4                              8.55       4  "
      ]
     },
     "execution_count": 6,
     "metadata": {},
     "output_type": "execute_result"
    }
   ],
   "source": [
    "df.head()"
   ]
  },
  {
   "cell_type": "code",
   "execution_count": null,
   "metadata": {
    "collapsed": true
   },
   "outputs": [],
   "source": []
  }
 ],
 "metadata": {
  "kernelspec": {
   "display_name": "Python 3",
   "language": "python",
   "name": "python3"
  },
  "language_info": {
   "codemirror_mode": {
    "name": "ipython",
    "version": 3
   },
   "file_extension": ".py",
   "mimetype": "text/x-python",
   "name": "python",
   "nbconvert_exporter": "python",
   "pygments_lexer": "ipython3",
   "version": "3.6.3"
  }
 },
 "nbformat": 4,
 "nbformat_minor": 2
}
